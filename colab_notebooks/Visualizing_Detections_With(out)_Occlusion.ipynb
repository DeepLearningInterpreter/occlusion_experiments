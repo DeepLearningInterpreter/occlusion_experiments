{
  "nbformat": 4,
  "nbformat_minor": 0,
  "metadata": {
    "colab": {
      "name": "Visualizing Detections With(out) Occlusion",
      "version": "0.3.2",
      "provenance": [],
      "collapsed_sections": [
        "JnaC-s_3jaG6",
        "Pp2K7I5G1XOf"
      ],
      "include_colab_link": true
    },
    "kernelspec": {
      "name": "python3",
      "display_name": "Python 3"
    },
    "accelerator": "GPU"
  },
  "cells": [
    {
      "cell_type": "markdown",
      "metadata": {
        "id": "view-in-github",
        "colab_type": "text"
      },
      "source": [
        "<a href=\"https://colab.research.google.com/github/DeepLearningInterpreter/occlusion_experiments/blob/master/colab_notebooks/Visualizing_Detections_With(out)_Occlusion.ipynb\" target=\"_parent\"><img src=\"https://colab.research.google.com/assets/colab-badge.svg\" alt=\"Open In Colab\"/></a>"
      ]
    },
    {
      "metadata": {
        "id": "Fyk7FY6S1zB0",
        "colab_type": "text"
      },
      "cell_type": "markdown",
      "source": [
        "##Introduction"
      ]
    },
    {
      "metadata": {
        "id": "mMFo33mL17L7",
        "colab_type": "text"
      },
      "cell_type": "markdown",
      "source": [
        "The purpose of this notebook is to detect the pistol(s) on images and visualize these detections by drawing bounding boxes. Optionally, an occlusion box can be placed in the image to see how the models deal with the occlusion. The notebook is structured as follows.\n",
        "\n",
        "**First** you can choose whether you want to use SSD or Faster R-CNN.\n",
        "\n",
        "**The next few parts** are important but can be skipped or quickly glanced over. In these parts, the repository is cloned to the cloud server, the necessary imports are taken care of, the model is loaded into memory, and some helpful functions are defined.\n",
        "\n",
        "**The final part** of the notebook is the most interesting. Here, you can specify the images of interest and optionally draw a bounding box in the image. The detection visualizations will be printed."
      ]
    },
    {
      "metadata": {
        "id": "gFefh6g2FAT0",
        "colab_type": "text"
      },
      "cell_type": "markdown",
      "source": [
        "##Choose Your Model\n",
        "Choose the meta architecture that you want to use.\n"
      ]
    },
    {
      "metadata": {
        "id": "eEXTOOuo3CpB",
        "colab_type": "code",
        "colab": {}
      },
      "cell_type": "code",
      "source": [
        "#Set this variable equal to \"SSD\" or \"FRCNN\" (for Faster R-CNN)\n",
        "meta_architecture = \"SSD\""
      ],
      "execution_count": 0,
      "outputs": []
    },
    {
      "metadata": {
        "id": "rMuRCv5AHJTJ",
        "colab_type": "code",
        "colab": {}
      },
      "cell_type": "code",
      "source": [
        "if meta_architecture == \"SSD\":\n",
        "  MODEL_NAME = \"SSD_ext_lrCyc\"\n",
        "  MODEL_TYPE = \"SSD\"\n",
        "elif meta_architecture == \"FRCNN\":\n",
        "  MODEL_NAME = \"FRCNN_ext_lr3\"\n",
        "  MODEL_TYPE = \"FRCNN\"\n",
        "else:\n",
        "  raise ValueError(\n",
        "      'The meta_architecture variable has to be set to either \"SSD\" or \"FRCNN\".'\n",
        "  )"
      ],
      "execution_count": 0,
      "outputs": []
    },
    {
      "metadata": {
        "id": "JnaC-s_3jaG6",
        "colab_type": "text"
      },
      "cell_type": "markdown",
      "source": [
        "---------------------------------------------------------------------------\n",
        "##Cloning the GitHub repository to the cloud server. \n",
        "\n"
      ]
    },
    {
      "metadata": {
        "id": "1Gl-A13XLHZc",
        "colab_type": "code",
        "outputId": "d2307f2b-d9c2-441a-d98e-e221934ce87d",
        "colab": {
          "base_uri": "https://localhost:8080/",
          "height": 671
        }
      },
      "cell_type": "code",
      "source": [
        "#Downloading and installing git lfs\n",
        "!curl -s https://packagecloud.io/install/repositories/github/git-lfs/script.deb.sh | sudo bash\n",
        "!sudo apt-get install git-lfs\n",
        "!git lfs install"
      ],
      "execution_count": 3,
      "outputs": [
        {
          "output_type": "stream",
          "text": [
            "Detected operating system as Ubuntu/bionic.\n",
            "Checking for curl...\n",
            "Detected curl...\n",
            "Checking for gpg...\n",
            "Detected gpg...\n",
            "Running apt-get update... done.\n",
            "Installing apt-transport-https... done.\n",
            "Installing /etc/apt/sources.list.d/github_git-lfs.list...done.\n",
            "Importing packagecloud gpg key... done.\n",
            "Running apt-get update... done.\n",
            "\n",
            "The repository is setup! You can now install packages.\n",
            "Reading package lists... Done\n",
            "Building dependency tree       \n",
            "Reading state information... Done\n",
            "The following NEW packages will be installed:\n",
            "  git-lfs\n",
            "0 upgraded, 1 newly installed, 0 to remove and 72 not upgraded.\n",
            "Need to get 4,931 kB of archives.\n",
            "After this operation, 12.3 MB of additional disk space will be used.\n",
            "Get:1 https://packagecloud.io/github/git-lfs/ubuntu bionic/main amd64 git-lfs amd64 2.6.1 [4,931 kB]\n",
            "Fetched 4,931 kB in 1s (9,500 kB/s)\n",
            "debconf: unable to initialize frontend: Dialog\n",
            "debconf: (No usable dialog-like program is installed, so the dialog based frontend cannot be used. at /usr/share/perl5/Debconf/FrontEnd/Dialog.pm line 76, <> line 1.)\n",
            "debconf: falling back to frontend: Readline\n",
            "debconf: unable to initialize frontend: Readline\n",
            "debconf: (This frontend requires a controlling tty.)\n",
            "debconf: falling back to frontend: Teletype\n",
            "dpkg-preconfigure: unable to re-open stdin: \n",
            "Selecting previously unselected package git-lfs.\n",
            "(Reading database ... 110855 files and directories currently installed.)\n",
            "Preparing to unpack .../git-lfs_2.6.1_amd64.deb ...\n",
            "Unpacking git-lfs (2.6.1) ...\n",
            "Setting up git-lfs (2.6.1) ...\n",
            "Git LFS initialized.\n",
            "Processing triggers for man-db (2.8.3-2ubuntu0.1) ...\n",
            "Git LFS initialized.\n"
          ],
          "name": "stdout"
        }
      ]
    },
    {
      "metadata": {
        "id": "Uh3_od2-zxdl",
        "colab_type": "code",
        "outputId": "81ea8a99-b1ff-4b32-9610-98b70d8e3322",
        "colab": {
          "base_uri": "https://localhost:8080/",
          "height": 240
        }
      },
      "cell_type": "code",
      "source": [
        "#This takes a few minutes but less than five for sure!\n",
        "\n",
        "#Cloning repository. The exclude flag indicates that large files from the \"training\" and \"evaluation_outcomes\" \n",
        "#subdirectories should not be downloaded\n",
        "!git lfs clone https://github.com/DeepLearningInterpreter/occlusion_experiments.git --exclude=\"occlusion_experiments/main_content/multitude_of_possible_detectors/training, occlusion_experiments/main_content/multitude_of_possible_detectors/evaluation_outcomes\""
      ],
      "execution_count": 4,
      "outputs": [
        {
          "output_type": "stream",
          "text": [
            "WARNING: 'git lfs clone' is deprecated and will not be updated\n",
            "          with new flags from 'git clone'\n",
            "\n",
            "'git clone' has been updated in upstream Git to have comparable\n",
            "speeds to 'git lfs clone'.\n",
            "Cloning into 'occlusion_experiments'...\n",
            "remote: Enumerating objects: 175, done.\u001b[K\n",
            "remote: Counting objects: 100% (175/175), done.\u001b[K\n",
            "remote: Compressing objects: 100% (97/97), done.\u001b[K\n",
            "remote: Total 2173 (delta 117), reused 101 (delta 52), pack-reused 1998\u001b[K\n",
            "Receiving objects: 100% (2173/2173), 185.84 MiB | 28.78 MiB/s, done.\n",
            "Resolving deltas: 100% (394/394), done.\n",
            "Checking out files: 100% (2206/2206), done.\n"
          ],
          "name": "stdout"
        }
      ]
    },
    {
      "metadata": {
        "id": "wOvyEGjO0bOT",
        "colab_type": "code",
        "outputId": "bfab3e26-97a9-4e57-c856-50f6beadf6df",
        "colab": {
          "base_uri": "https://localhost:8080/",
          "height": 34
        }
      },
      "cell_type": "code",
      "source": [
        "import os\n",
        "os.chdir(\"/content/occlusion_experiments/TF_object_detection_API_modified\")\n",
        "os.chdir(\"object_detection\")\n",
        "os.getcwd()"
      ],
      "execution_count": 5,
      "outputs": [
        {
          "output_type": "execute_result",
          "data": {
            "text/plain": [
              "'/content/occlusion_experiments/TF_object_detection_API_modified/object_detection'"
            ]
          },
          "metadata": {
            "tags": []
          },
          "execution_count": 5
        }
      ]
    },
    {
      "metadata": {
        "id": "Pp2K7I5G1XOf",
        "colab_type": "text"
      },
      "cell_type": "markdown",
      "source": [
        "---------------------------------------------------------------------------------------------------------------------\n",
        "##Imports and function definitions"
      ]
    },
    {
      "metadata": {
        "id": "efkJtoawELEh",
        "colab_type": "code",
        "colab": {}
      },
      "cell_type": "code",
      "source": [
        "# coding: utf-8\n",
        "\n",
        "# # Imports\n",
        "import csv\n",
        "import numpy as np\n",
        "import os\n",
        "import six.moves.urllib as urllib\n",
        "import sys\n",
        "import tensorflow as tf\n",
        "import time\n",
        "\n",
        "from distutils.version import StrictVersion\n",
        "from collections import defaultdict\n",
        "from io import StringIO\n",
        "from matplotlib import pyplot as plt\n",
        "from PIL import Image\n",
        "import scipy.misc\n",
        "\n",
        "sys.path.append(\"..\")\n",
        "from utils import ops as utils_ops\n",
        "\n",
        "if StrictVersion(tf.__version__) < StrictVersion('1.9.0'):\n",
        "  raise ImportError('Please upgrade your TensorFlow installation to v1.9.* or later!')\n",
        "  \n",
        "\n"
      ],
      "execution_count": 0,
      "outputs": []
    },
    {
      "metadata": {
        "id": "Srqxo2frWlcb",
        "colab_type": "code",
        "colab": {}
      },
      "cell_type": "code",
      "source": [
        "#makes sure there is no printing output\n",
        "%%capture \n",
        "\n",
        "#more imports\n",
        "from object_detection.utils import label_map_util\n",
        "from utils import visualization_utils as vis_util"
      ],
      "execution_count": 0,
      "outputs": []
    },
    {
      "metadata": {
        "id": "FuVNXz2b3q0T",
        "colab_type": "code",
        "colab": {}
      },
      "cell_type": "code",
      "source": [
        "os.chdir('/content/occlusion_experiments/main_content')"
      ],
      "execution_count": 0,
      "outputs": []
    },
    {
      "metadata": {
        "id": "jw5TJAYTBfR4",
        "colab_type": "code",
        "colab": {}
      },
      "cell_type": "code",
      "source": [
        "# # Model preparation\n",
        "\n",
        "path_to_model = 'multitude_of_possible_detectors/frozen_models_for_detection/'\n",
        "\n",
        "# Path to frozen detection graph. This is the actual model that is used for the object detection.\n",
        "PATH_TO_FROZEN_GRAPH = path_to_model + MODEL_NAME + '/frozen_inference_graph.pb'\n",
        "\n",
        "# List of the strings that is used to add correct label for each box.\n",
        "PATH_TO_LABELS = os.path.join('data/main_data', 'pistol_car_label_map.pbtxt')\n",
        "\n",
        "#Load a (frozen) Tensorflow model into memory.\n",
        "detection_graph = tf.Graph()\n",
        "with detection_graph.as_default():\n",
        "  od_graph_def = tf.GraphDef()\n",
        "  with tf.gfile.GFile(PATH_TO_FROZEN_GRAPH, 'rb') as fid:\n",
        "    serialized_graph = fid.read()\n",
        "    od_graph_def.ParseFromString(serialized_graph)\n",
        "    tf.import_graph_def(od_graph_def, name='')\n",
        "\n",
        "\n",
        "#Loading label map\n",
        "category_index = label_map_util.create_category_index_from_labelmap(PATH_TO_LABELS, use_display_name=True)\n",
        "\n",
        "\n",
        "#Helper code\n",
        "def load_image_into_numpy_array(image):\n",
        "  (im_width, im_height) = image.size\n",
        "  return np.array(image.getdata()).reshape(\n",
        "      (im_height, im_width, 3)).astype(np.uint8)"
      ],
      "execution_count": 0,
      "outputs": []
    },
    {
      "metadata": {
        "id": "b7yBcMrNqSfn",
        "colab_type": "text"
      },
      "cell_type": "markdown",
      "source": [
        "end of imports and function definitions.\n",
        "\n",
        "-------------------------------------------------------------\n",
        "##Begin occlusion and inference\n"
      ]
    },
    {
      "metadata": {
        "id": "qseaxDCT542-",
        "colab_type": "text"
      },
      "cell_type": "markdown",
      "source": [
        "Specify the name of the image of interest in this cell. The image will be printed so you can decide where to draw the occlusion box.  "
      ]
    },
    {
      "metadata": {
        "id": "mOgKSaAJ5vy3",
        "colab_type": "code",
        "outputId": "a57e47e0-73d4-45b7-e007-27981e92f2fc",
        "colab": {
          "base_uri": "https://localhost:8080/",
          "height": 34
        }
      },
      "cell_type": "code",
      "source": [
        "#Specify the index of the image of interest. To see which index corresponds \n",
        "#to which image, uncomment the second to next codeblock and run it.\n",
        "image_index = 7\n",
        "\n",
        "#printing image\n",
        "with open('data/occlusion_images/nameAndBB.csv') as f:\n",
        "  reader = csv.reader(f)\n",
        "  image_info = list(reader)\n",
        "  \n",
        "print(image_index)\n",
        "image_path = \"data/occlusion_images/\" + image_info[image_index][0]\n",
        "image = Image.open(image_path)\n",
        "image_np = load_image_into_numpy_array(image)\n",
        "plt.imshow(image_np)\n",
        "plt.show()"
      ],
      "execution_count": 10,
      "outputs": [
        {
          "output_type": "stream",
          "text": [
            "7\n"
          ],
          "name": "stdout"
        }
      ]
    },
    {
      "metadata": {
        "id": "A792c02WBLgW",
        "colab_type": "text"
      },
      "cell_type": "markdown",
      "source": [
        "Decide the location of the occlusion box. If you do not want to occlude anything you can set the *size* variable to zero."
      ]
    },
    {
      "metadata": {
        "id": "41w0dsqYA3dF",
        "colab_type": "code",
        "colab": {}
      },
      "cell_type": "code",
      "source": [
        "#The next two variables decide where the top left corner of the occlusion box\n",
        "#will be. Choosing x0 = 0 and y0 = 0 means that the top left corner of the\n",
        "#occlusion box will be in the top left corner of the image.\n",
        "x0 = 403 #along the horizontal axis\n",
        "y0 = 125 #along the vertical axis\n",
        "\n",
        "#This parameter decides the size of the box in terms of the number of pixels.\n",
        "#Set size = 0 for no occlusion\n",
        "size = 80"
      ],
      "execution_count": 0,
      "outputs": []
    },
    {
      "metadata": {
        "id": "stndAbVuH5cJ",
        "colab_type": "text"
      },
      "cell_type": "markdown",
      "source": [
        "With the following codeblock you can find out which image corresponds to what index.\n",
        "Just uncomment and run the code below:"
      ]
    },
    {
      "metadata": {
        "id": "QlDS7j7dGDt5",
        "colab_type": "code",
        "colab": {}
      },
      "cell_type": "code",
      "source": [
        "# with open('data/occlusion_images/nameAndBB.csv') as f:\n",
        "#   reader = csv.reader(f)\n",
        "#   image_info = list(reader)\n",
        "  \n",
        "\n",
        "# for i in range(1,30):\n",
        "#   print(i)\n",
        "#   image_path = \"data/occlusion_images/\" + image_info[i][0]\n",
        "#   image = Image.open(image_path)\n",
        "#   image_np = load_image_into_numpy_array(image)\n",
        "#   plt.imshow(image_np)\n",
        "#   plt.show()"
      ],
      "execution_count": 0,
      "outputs": []
    },
    {
      "metadata": {
        "id": "AzcfLJxW6OtU",
        "colab_type": "text"
      },
      "cell_type": "markdown",
      "source": [
        "Run the cell below and the visualization of the detection will be printed."
      ]
    },
    {
      "metadata": {
        "id": "dyLOXCLq7Z3Q",
        "colab_type": "code",
        "outputId": "ca765548-df77-4cbd-83aa-c55df0b651ee",
        "colab": {
          "base_uri": "https://localhost:8080/",
          "height": 311
        }
      },
      "cell_type": "code",
      "source": [
        "%matplotlib inline\n",
        "from occlusion_help_funcs.help_funcs import compute_IoU\n",
        "import csv\n",
        "\n",
        "with open('data/occlusion_images/nameAndBB.csv') as f:\n",
        "  reader = csv.reader(f)\n",
        "  image_info = list(reader)\n",
        "\n",
        "x1 = x0 + size\n",
        "y1 = y0 + size\n",
        "\n",
        "#retrieve the ground truth bounding box\n",
        "gt_box = image_info[image_index]\n",
        "image_sel = gt_box[0]\n",
        "gt_box = gt_box[1:5]\n",
        "gt_box = [int(x) for x in gt_box]\n",
        "\n",
        "#construct image path\n",
        "PATH_TO_TEST_IMAGES_DIR = 'data/occlusion_images'\n",
        "image_path = os.path.join(PATH_TO_TEST_IMAGES_DIR, image_sel)\n",
        "\n",
        "# Size, in inches, of the output images.\n",
        "IMAGE_SIZE = (12, 8)\n",
        "\n",
        "#open image\n",
        "image = Image.open(image_path)\n",
        "image_np = load_image_into_numpy_array(image)\n",
        "\n",
        "#make area on image grey\n",
        "image_np[y0:y1, x0:x1, 0] = 163\n",
        "image_np[y0:y1, x0:x1, 1] = 157\n",
        "image_np[y0:y1, x0:x1, 2] = 152\n",
        "\n",
        "#making plots nicer\n",
        "plt.rcParams[\"axes.grid\"] = False\n",
        "\n",
        "#begin inference\n",
        "with detection_graph.as_default():\n",
        "    with tf.Session() as sess:\n",
        "        #Necessary model preparation--------------\n",
        "        ops = tf.get_default_graph().get_operations()\n",
        "        all_tensor_names = {output.name for op in ops for output in op.outputs}\n",
        "        tensor_dict = {}\n",
        "        for key in [\n",
        "            'num_detections', 'detection_boxes', 'detection_scores',\n",
        "            'detection_classes'\n",
        "        ]:\n",
        "          tensor_name = key + ':0'\n",
        "          if tensor_name in all_tensor_names:\n",
        "            tensor_dict[key] = tf.get_default_graph().get_tensor_by_name(\n",
        "                tensor_name)\n",
        "        #end necessary model preparation------------\n",
        "\n",
        "        # Expand dimensions since the model expects images to have shape: [1, None, None, 3]\n",
        "        image_np_expanded = np.expand_dims(image_np, axis=0)\n",
        "\n",
        "        start = time.time()\n",
        "\n",
        "        # Get handles to input and output tensors\n",
        "\n",
        "\n",
        "        if 'detection_masks' in tensor_dict:\n",
        "          # The following processing is only for single image\n",
        "          detection_boxes = tf.squeeze(tensor_dict['detection_boxes'], [0])\n",
        "          detection_masks = tf.squeeze(tensor_dict['detection_masks'], [0])\n",
        "          # Reframe is required to translate mask from box coordinates to image coordinates and fit the image size.\n",
        "          real_num_detection = tf.cast(tensor_dict['num_detections'][0], tf.int32)\n",
        "          detection_boxes = tf.slice(detection_boxes, [0, 0], [real_num_detection, -1])\n",
        "          detection_masks = tf.slice(detection_masks, [0, 0, 0], [real_num_detection, -1, -1])\n",
        "          detection_masks_reframed = utils_ops.reframe_box_masks_to_image_masks(\n",
        "              detection_masks, detection_boxes, image_np.shape[0], image_np.shape[1])\n",
        "          detection_masks_reframed = tf.cast(\n",
        "              tf.greater(detection_masks_reframed, 0.5), tf.uint8)\n",
        "          # Follow the convention by adding back the batch dimension\n",
        "          tensor_dict['detection_masks'] = tf.expand_dims(\n",
        "              detection_masks_reframed, 0)\n",
        "        image_tensor = tf.get_default_graph().get_tensor_by_name('image_tensor:0')\n",
        "\n",
        "        # Run inference\n",
        "        output_dict = sess.run(tensor_dict,\n",
        "                               feed_dict={image_tensor: np.expand_dims(image_np, 0)})\n",
        "\n",
        "        # all outputs are float32 numpy arrays, so convert types as appropriate\n",
        "        output_dict['num_detections'] = int(output_dict['num_detections'][0])\n",
        "        output_dict['detection_classes'] = output_dict[\n",
        "            'detection_classes'][0].astype(np.uint8)\n",
        "        output_dict['detection_boxes'] = output_dict['detection_boxes'][0]\n",
        "        output_dict['detection_scores'] = output_dict['detection_scores'][0]\n",
        "        if 'detection_masks' in output_dict:\n",
        "          output_dict['detection_masks'] = output_dict['detection_masks'][0]\n",
        "\n",
        "        end = time.time()\n",
        "        \n",
        "        #import pdb; pdb.set_trace()\n",
        "\n",
        "        print(end-start)\n",
        "        \n",
        "        #Convert to relative ground truth box coordinates\n",
        "        gt_box = [gt_box[0]/image_np.shape[0], gt_box[1]/image_np.shape[1], \n",
        "            gt_box[2]/image_np.shape[0], gt_box[3]/image_np.shape[1]]\n",
        "        \n",
        "        #compute IoU\n",
        "        highest = 0.2\n",
        "        detected_bool = False\n",
        "        #checking the IoU for every detection\n",
        "        for k in range(output_dict['num_detections']):\n",
        "            pred_box = output_dict['detection_boxes'][k]\n",
        "            IoU = compute_IoU(gt_box, pred_box)\n",
        "            if IoU > highest:\n",
        "                highest = IoU\n",
        "                index = k\n",
        "                detected_bool = True\n",
        "        IoU = highest\n",
        "        \n",
        "        #Visualize the ground truth box.\n",
        "        vis_util.draw_bounding_box_on_image_array(\n",
        "            image_np, gt_box[0], gt_box[1], gt_box[2], gt_box[3], \n",
        "            color='red', thickness=8\n",
        "        )\n",
        "        \n",
        "        # Visualization of the results of a detection.\n",
        "        vis_util.visualize_boxes_and_labels_on_image_array(\n",
        "            image_np,\n",
        "            output_dict['detection_boxes'],\n",
        "            output_dict['detection_classes'],\n",
        "            output_dict['detection_scores'],\n",
        "            category_index,\n",
        "            instance_masks=output_dict.get('detection_masks'),\n",
        "            use_normalized_coordinates=True,\n",
        "            min_score_thresh=.25,\n",
        "            line_thickness=8)\n",
        "        \n",
        "        fig, ax = plt.subplots(ncols=1)\n",
        "        \n",
        "        im1 = ax.imshow(image_np)\n",
        "        \n",
        "        ax.set_ylabel('')\n",
        "        if IoU > .2:\n",
        "          ax.set_xlabel(\"IoU = {:.2f}\".format(IoU))\n",
        "\n",
        "        # Turn off tick labels\n",
        "        ax.set_yticklabels([])\n",
        "        ax.set_xticklabels([])\n",
        "  \n",
        "        plt.show()\n",
        "        \n",
        "        if IoU > .2:\n",
        "          print(\"The intersection over union is: \", IoU)\n",
        "          print(\"Confidence is: \", output_dict['detection_scores'][index])"
      ],
      "execution_count": 13,
      "outputs": [
        {
          "output_type": "stream",
          "text": [
            "4.4403910636901855\n"
          ],
          "name": "stdout"
        },
        {
          "output_type": "display_data",
          "data": {
            "image/png": "[encoded data removed]",
            "text/plain": [
              "<Figure size 432x288 with 1 Axes>"
            ]
          },
          "metadata": {
            "tags": []
          }
        },
        {
          "output_type": "stream",
          "text": [
            "The intersection over union is:  0.3928882872378966\n",
            "Confidence is:  0.332755\n"
          ],
          "name": "stdout"
        }
      ]
    },
    {
      "metadata": {
        "id": "1Em3812E4rAQ",
        "colab_type": "code",
        "colab": {}
      },
      "cell_type": "code",
      "source": [
        ""
      ],
      "execution_count": 0,
      "outputs": []
    }
  ]
}